{
 "cells": [
  {
   "cell_type": "code",
   "execution_count": 110,
   "metadata": {
    "collapsed": true,
    "scrolled": true
   },
   "outputs": [],
   "source": [
    "import re\n",
    "import numpy as np\n",
    "file_open = open('sentences.txt','r')\n",
    "data_list = file_open.readlines()"
   ]
  },
  {
   "cell_type": "code",
   "execution_count": 111,
   "metadata": {
    "collapsed": true
   },
   "outputs": [],
   "source": [
    "massiv = []\n",
    "data_list = [x.strip() for x in data_list]\n",
    "data_list = [x.lower() for x in data_list]"
   ]
  },
  {
   "cell_type": "code",
   "execution_count": 112,
   "metadata": {
    "collapsed": true
   },
   "outputs": [],
   "source": [
    "for x in data_list:\n",
    "    x = re.split('[^a-z]', x.strip())\n",
    "    massiv.append(x)\n",
    "# получили предложения разбиты на слова с пробелами"
   ]
  },
  {
   "cell_type": "code",
   "execution_count": 113,
   "metadata": {
    "collapsed": true
   },
   "outputs": [],
   "source": [
    "for idx, x in enumerate(massiv):\n",
    "    for ind, y in enumerate(x):\n",
    "        if y == '':\n",
    "            x.pop(ind)\n",
    "#удалили все пробелы      "
   ]
  },
  {
   "cell_type": "code",
   "execution_count": 114,
   "metadata": {
    "collapsed": true
   },
   "outputs": [],
   "source": [
    "from collections import defaultdict\n",
    "dict_names = defaultdict(int)"
   ]
  },
  {
   "cell_type": "code",
   "execution_count": 115,
   "metadata": {
    "collapsed": true
   },
   "outputs": [],
   "source": [
    "for x in massiv:\n",
    "    for y in x:\n",
    "        dict_names[y] += 1        \n",
    "stolbec = len(dict_names)\n",
    "#Нашли уникальные имена и количество их повторений, длина словаря это столбцы нашей матрицы"
   ]
  },
  {
   "cell_type": "code",
   "execution_count": 116,
   "metadata": {
    "collapsed": true
   },
   "outputs": [],
   "source": [
    "stroka = len(massiv)\n",
    "#Строка = количеству предложенией в списке"
   ]
  },
  {
   "cell_type": "code",
   "execution_count": 117,
   "metadata": {
    "collapsed": true
   },
   "outputs": [],
   "source": [
    "#Создадим 0 матрицу с размерами \n",
    "matrix = np.zeros((stroka,stolbec), dtype=np.int)"
   ]
  },
  {
   "cell_type": "code",
   "execution_count": 118,
   "metadata": {
    "collapsed": true
   },
   "outputs": [],
   "source": [
    "for i, word in enumerate(dict_names): #перебор всех уникальных слов в словаре\n",
    "      for j, sent in enumerate(massiv): #Перебор всех предложений\n",
    "        matrix[j, i] = sent.count(word) #Подсчёт количества уникальных слов в каждом предложении и запись в матрицу с \n",
    "        # позициtей i - номер слова в словаре (для матрицы это номер столбца), j - номер предложения ( для матрицы это номер строки)\n",
    "# посчитали количество слов в предложении и записали в матрицу"
   ]
  },
  {
   "cell_type": "code",
   "execution_count": 119,
   "metadata": {},
   "outputs": [
    {
     "data": {
      "text/plain": [
       "0.92587506833388988"
      ]
     },
     "execution_count": 119,
     "metadata": {},
     "output_type": "execute_result"
    }
   ],
   "source": [
    "from scipy.spatial.distance import cosine as cosine\n",
    "cosine(matrix[0], matrix[7])"
   ]
  },
  {
   "cell_type": "code",
   "execution_count": 120,
   "metadata": {},
   "outputs": [
    {
     "name": "stdout",
     "output_type": "stream",
     "text": [
      "[(17, 0.96363035162733457), (5, 0.95545645968126258), (1, 0.95275444087384664), (15, 0.95275444087384664), (18, 0.94427217874246472), (13, 0.93420483050402314), (7, 0.92587506833388988), (8, 0.90615831293652183), (9, 0.90550888174769317), (3, 0.89517151632780823), (19, 0.88854435748492944), (14, 0.88603942354036203), (11, 0.88047713906656067), (2, 0.86447381456421235), (21, 0.85361498905772004), (16, 0.84727929033575755), (6, 0.84465755849970003), (20, 0.84275727449171223), (12, 0.83964325485254543), (10, 0.83633658232300567), (4, 0.77708871496985887)]\n"
     ]
    }
   ],
   "source": [
    "res = {}\n",
    "for i in range(1, len(matrix)):\n",
    "    res[i] = cosine(matrix[0],matrix[i])\n",
    "    i+=1\n",
    "item_list = res.items()\n",
    "def sort_list (i):\n",
    "    return i[1]\n",
    "item_list.sort(key=sort_list, reverse = True)\n",
    "print item_list"
   ]
  },
  {
   "cell_type": "code",
   "execution_count": 163,
   "metadata": {},
   "outputs": [
    {
     "name": "stdout",
     "output_type": "stream",
     "text": [
      "18 6\n"
     ]
    }
   ],
   "source": [
    "y = open('first_programming_task1.txt', 'r+')\n",
    "a = item_list[0][0]+1\n",
    "b = item_list[1][0]+1\n",
    "print a, b"
   ]
  },
  {
   "cell_type": "code",
   "execution_count": 169,
   "metadata": {},
   "outputs": [
    {
     "ename": "TypeError",
     "evalue": "'int' object is not iterable",
     "output_type": "error",
     "traceback": [
      "\u001b[1;31m---------------------------------------------------------------------------\u001b[0m",
      "\u001b[1;31mTypeError\u001b[0m                                 Traceback (most recent call last)",
      "\u001b[1;32m<ipython-input-169-86eb9215ee5a>\u001b[0m in \u001b[0;36m<module>\u001b[1;34m()\u001b[0m\n\u001b[0;32m      1\u001b[0m \u001b[0mx\u001b[0m \u001b[1;33m=\u001b[0m \u001b[0mopen\u001b[0m\u001b[1;33m(\u001b[0m\u001b[1;34m'first_programming_task1.txt'\u001b[0m\u001b[1;33m,\u001b[0m \u001b[1;34m'r+'\u001b[0m\u001b[1;33m)\u001b[0m\u001b[1;33m\u001b[0m\u001b[0m\n\u001b[1;32m----> 2\u001b[1;33m \u001b[0mx\u001b[0m\u001b[1;33m.\u001b[0m\u001b[0mwrite\u001b[0m\u001b[1;33m(\u001b[0m\u001b[0mlist\u001b[0m\u001b[1;33m(\u001b[0m\u001b[0ma\u001b[0m\u001b[1;33m)\u001b[0m\u001b[1;33m)\u001b[0m\u001b[1;33m\u001b[0m\u001b[0m\n\u001b[0m",
      "\u001b[1;31mTypeError\u001b[0m: 'int' object is not iterable"
     ]
    }
   ],
   "source": [
    "x = open('first_programming_task1.txt', 'r+')\n",
    "x.write(a)"
   ]
  },
  {
   "cell_type": "code",
   "execution_count": null,
   "metadata": {},
   "outputs": [],
   "source": []
  },
  {
   "cell_type": "code",
   "execution_count": null,
   "metadata": {
    "collapsed": true
   },
   "outputs": [],
   "source": []
  },
  {
   "cell_type": "code",
   "execution_count": null,
   "metadata": {
    "collapsed": true
   },
   "outputs": [],
   "source": []
  }
 ],
 "metadata": {
  "kernelspec": {
   "display_name": "Python 2",
   "language": "python",
   "name": "python2"
  },
  "language_info": {
   "codemirror_mode": {
    "name": "ipython",
    "version": 2
   },
   "file_extension": ".py",
   "mimetype": "text/x-python",
   "name": "python",
   "nbconvert_exporter": "python",
   "pygments_lexer": "ipython2",
   "version": "2.7.13"
  }
 },
 "nbformat": 4,
 "nbformat_minor": 2
}
