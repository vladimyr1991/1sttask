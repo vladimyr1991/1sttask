{
 "cells": [
  {
   "cell_type": "code",
   "execution_count": 102,
   "metadata": {},
   "outputs": [
    {
     "name": "stdout",
     "output_type": "stream",
     "text": [
      "<type 'list'>\n",
      "      fun: -11.898894665981313\n",
      " hess_inv: array([[ 1.67936744]])\n",
      "      jac: array([ 0.])\n",
      "  message: 'Optimization terminated successfully.'\n",
      "     nfev: 21\n",
      "      nit: 6\n",
      "     njev: 7\n",
      "   status: 0\n",
      "  success: True\n",
      "        x: array([ 25.88019321])\n",
      "(0, 2, 0, 2, 0, 2, 0, 2, 0, 2, 0, 2, 0, 2, 0, 2, 0, 2, 0, 2, 0, 2, 0, 2, 0, 2, 0, 2, 0, 2, 0, 2, 0, 2, 0, 2, 0, 2, 0, 2, 0, 2, 0, 2, 0, 2, 0, 2, 0, 2, 0, 2, 0, 2, 0, 2, 0, 2, 0, 2)\n"
     ]
    },
    {
     "ename": "ValueError",
     "evalue": "bounds should be a sequence containing real valued (min, max) pairs for each value in x",
     "output_type": "error",
     "traceback": [
      "\u001b[1;31m---------------------------------------------------------------------------\u001b[0m",
      "\u001b[1;31mValueError\u001b[0m                                Traceback (most recent call last)",
      "\u001b[1;32m<ipython-input-102-e6899fdaf000>\u001b[0m in \u001b[0;36m<module>\u001b[1;34m()\u001b[0m\n\u001b[0;32m     20\u001b[0m \u001b[0mbounds\u001b[0m\u001b[1;33m=\u001b[0m \u001b[0mn_vars\u001b[0m\u001b[1;33m*\u001b[0m\u001b[0mvar_bound\u001b[0m\u001b[1;33m\u001b[0m\u001b[0m\n\u001b[0;32m     21\u001b[0m \u001b[1;32mprint\u001b[0m \u001b[0mbounds\u001b[0m\u001b[1;33m\u001b[0m\u001b[0m\n\u001b[1;32m---> 22\u001b[1;33m \u001b[0mres\u001b[0m \u001b[1;33m=\u001b[0m \u001b[0mdifferential_evolution\u001b[0m\u001b[1;33m(\u001b[0m\u001b[0mf\u001b[0m\u001b[1;33m,\u001b[0m\u001b[0mbounds\u001b[0m\u001b[1;33m)\u001b[0m\u001b[1;33m\u001b[0m\u001b[0m\n\u001b[0m",
      "\u001b[1;32mC:\\Users\\Yulia\\Anaconda2\\lib\\site-packages\\scipy\\optimize\\_differentialevolution.py\u001b[0m in \u001b[0;36mdifferential_evolution\u001b[1;34m(func, bounds, args, strategy, maxiter, popsize, tol, mutation, recombination, seed, callback, disp, polish, init, atol)\u001b[0m\n\u001b[0;32m    210\u001b[0m                                          \u001b[0mseed\u001b[0m\u001b[1;33m=\u001b[0m\u001b[0mseed\u001b[0m\u001b[1;33m,\u001b[0m \u001b[0mpolish\u001b[0m\u001b[1;33m=\u001b[0m\u001b[0mpolish\u001b[0m\u001b[1;33m,\u001b[0m\u001b[1;33m\u001b[0m\u001b[0m\n\u001b[0;32m    211\u001b[0m                                          \u001b[0mcallback\u001b[0m\u001b[1;33m=\u001b[0m\u001b[0mcallback\u001b[0m\u001b[1;33m,\u001b[0m\u001b[1;33m\u001b[0m\u001b[0m\n\u001b[1;32m--> 212\u001b[1;33m                                          disp=disp, init=init, atol=atol)\n\u001b[0m\u001b[0;32m    213\u001b[0m     \u001b[1;32mreturn\u001b[0m \u001b[0msolver\u001b[0m\u001b[1;33m.\u001b[0m\u001b[0msolve\u001b[0m\u001b[1;33m(\u001b[0m\u001b[1;33m)\u001b[0m\u001b[1;33m\u001b[0m\u001b[0m\n\u001b[0;32m    214\u001b[0m \u001b[1;33m\u001b[0m\u001b[0m\n",
      "\u001b[1;32mC:\\Users\\Yulia\\Anaconda2\\lib\\site-packages\\scipy\\optimize\\_differentialevolution.py\u001b[0m in \u001b[0;36m__init__\u001b[1;34m(self, func, bounds, args, strategy, maxiter, popsize, tol, mutation, recombination, seed, maxfun, callback, disp, polish, init, atol)\u001b[0m\n\u001b[0;32m    371\u001b[0m         if (np.size(self.limits, 0) != 2 or not\n\u001b[0;32m    372\u001b[0m                 np.all(np.isfinite(self.limits))):\n\u001b[1;32m--> 373\u001b[1;33m             raise ValueError('bounds should be a sequence containing '\n\u001b[0m\u001b[0;32m    374\u001b[0m                              \u001b[1;34m'real valued (min, max) pairs for each value'\u001b[0m\u001b[1;33m\u001b[0m\u001b[0m\n\u001b[0;32m    375\u001b[0m                              ' in x')\n",
      "\u001b[1;31mValueError\u001b[0m: bounds should be a sequence containing real valued (min, max) pairs for each value in x"
     ]
    },
    {
     "data": {
      "image/png": "[encoded data removed]",
      "text/plain": [
       "<matplotlib.figure.Figure at 0x9fa4400>"
      ]
     },
     "metadata": {},
     "output_type": "display_data"
    }
   ],
   "source": [
    "from __future__ import division\n",
    "from math import (sin, exp)\n",
    "import numpy as np\n",
    "from scipy.optimize import minimize, differential_evolution\n",
    "from matplotlib import pyplot as plt\n",
    "x = range(1,31)\n",
    "print type(x)\n",
    "data_func=[]\n",
    "f = lambda x:sin(x/5)*exp(x/10)+5*exp(-x/2)\n",
    "i=1\n",
    "for x in range(1,31):\n",
    "    data_func.append(f(x))\n",
    "print res\n",
    "%matplotlib inline\n",
    "plt.plot (r,func)\n",
    "res = minimize(f,30,method = 'BFGS')\n",
    "\n",
    "var_bound = (0,2)\n",
    "n_vars = 30\n",
    "bounds= n_vars*var_bound\n",
    "print bounds \n",
    "for x in  \n",
    "differential_evolution(f,bounds)"
   ]
  }
 ],
 "metadata": {
  "kernelspec": {
   "display_name": "Python 2",
   "language": "python",
   "name": "python2"
  },
  "language_info": {
   "codemirror_mode": {
    "name": "ipython",
    "version": 2
   },
   "file_extension": ".py",
   "mimetype": "text/x-python",
   "name": "python",
   "nbconvert_exporter": "python",
   "pygments_lexer": "ipython2",
   "version": "2.7.13"
  }
 },
 "nbformat": 4,
 "nbformat_minor": 2
}
